{
 "cells": [
  {
   "cell_type": "code",
   "execution_count": 111,
   "id": "9337164a-2c65-4133-8966-20079ca1bfbc",
   "metadata": {},
   "outputs": [],
   "source": [
    "# Data Quality Check, Transformation, and Modeling\n",
    "\n",
    "#In this part, we will perform the following tasks:\n",
    "\n",
    "#1. **Data Quality Check:**\n",
    "#   - Check for missing values, duplicates, and outliers.\n",
    "#   - Validate data types and formats.\n",
    "#   - Ensure consistency and integrity of data across different columns.\n",
    "\n",
    "#2. **Transformation and Manipulation:**\n",
    "#   - Clean and preprocess the data as needed.\n",
    "#   - Perform transformations such as aggregations, joins, and calculations.\n",
    "#   - Handle any inconsistencies or discrepancies in the data.\n",
    "\n",
    "#3. **Data Modeling:**\n",
    "#   - Define the structure of our data model based on the requirements.\n",
    "#   - Identify entities, attributes, and relationships.\n",
    "#   - Design the schema for our data model (e.g., star schema, snowflake schema).\n",
    "#   - Create appropriate measures and dimensions for analysis.\n",
    "\t"
   ]
  },
  {
   "cell_type": "code",
   "execution_count": 182,
   "id": "05e72c7c-e4fd-4d28-8bae-7cd8d40a5dfa",
   "metadata": {},
   "outputs": [],
   "source": [
    "import pandas as pd"
   ]
  },
  {
   "cell_type": "code",
   "execution_count": 183,
   "id": "de94efc4-84d2-45a6-a97a-d16bd41926c3",
   "metadata": {},
   "outputs": [],
   "source": [
    "df = pd.read_csv('SampleDataset.csv')"
   ]
  },
  {
   "cell_type": "code",
   "execution_count": 184,
   "id": "99d3f833-3472-4fd8-ac35-477ddc52db17",
   "metadata": {},
   "outputs": [
    {
     "name": "stdout",
     "output_type": "stream",
     "text": [
      "          Date              name Scenario        Figure       Value  \\\n",
      "0     2/1/2019  Rate (Mt.EFH Km)   Actual         Month  6512.41596   \n",
      "1     2/1/2019  Rate (Mt.EFH Km)   Actual         Month  6512.41596   \n",
      "2     2/1/2019  Rate (Mt.EFH Km)   Actual  Year-To-Date  3448.19628   \n",
      "3     2/1/2019       Utility (%)   Actual         Month    81.60000   \n",
      "4     2/1/2019       Utility (%)     Plan  Year-To-Date    71.42400   \n",
      "...        ...               ...      ...           ...         ...   \n",
      "3021       NaN               NaN      NaN           NaN         NaN   \n",
      "3022       NaN               NaN      NaN           NaN         NaN   \n",
      "3023       NaN               NaN      NaN           NaN         NaN   \n",
      "3024       NaN               NaN      NaN           NaN         NaN   \n",
      "3025       NaN               NaN      NaN           NaN         NaN   \n",
      "\n",
      "                         BusinessUnit  Factor  \n",
      "0               Geomining Innovations     1.0  \n",
      "1               Geomining Innovations     1.0  \n",
      "2     Mineral Extraction Technologies     1.0  \n",
      "3         Deep Earth Exploration Unit     1.0  \n",
      "4         Deep Earth Exploration Unit     1.0  \n",
      "...                               ...     ...  \n",
      "3021                              NaN     NaN  \n",
      "3022                              NaN     NaN  \n",
      "3023                              NaN     NaN  \n",
      "3024                              NaN     NaN  \n",
      "3025                              NaN     NaN  \n",
      "\n",
      "[3026 rows x 7 columns]\n"
     ]
    }
   ],
   "source": [
    "print(df);"
   ]
  },
  {
   "cell_type": "code",
   "execution_count": 185,
   "id": "4101bae8-f5d2-4476-898e-3b570a3a5b18",
   "metadata": {},
   "outputs": [],
   "source": [
    "# Data Quality Check\n",
    "\n",
    "## missing_values, missing_all_column_values, missing_some_column\n",
    "missing_values = df.isnull().sum()\n",
    "\n",
    "missing_all_column_values = len(rows_missing_all_columns)\n",
    "\n",
    "\n",
    "rows_missing_all_columns = df[df.isnull().all(axis=1)]\n",
    "\n",
    "\n",
    "rows_missing_some_columns = df[df.isnull().any(axis=1) & ~df.isnull().all(axis=1)]\n",
    "\n",
    "# Count the number of rows where at least one column has a missing value, excluding rows with all columns missing\n",
    "missing_some_column_values = len(rows_missing_some_columns)\n",
    "\n",
    "\n",
    "duplicates = df.duplicated().sum()\n",
    "\n",
    "data_types = df.dtypes\n"
   ]
  },
  {
   "cell_type": "code",
   "execution_count": 186,
   "id": "7c8db890-6c05-4419-9346-5cf05dfbbcf3",
   "metadata": {},
   "outputs": [
    {
     "name": "stdout",
     "output_type": "stream",
     "text": [
      "          Date              name Scenario Figure  Value  \\\n",
      "1955  6/1/2023  Rate (Mt.EFH Km)   Actual  Month    NaN   \n",
      "\n",
      "                 BusinessUnit  Factor  \n",
      "1955  Core Extraction Systems     1.0  \n"
     ]
    }
   ],
   "source": [
    "print(rows_missing_some_columns)"
   ]
  },
  {
   "cell_type": "code",
   "execution_count": 187,
   "id": "867372d3-b156-48b9-a3ed-5f2f98b00f78",
   "metadata": {},
   "outputs": [
    {
     "name": "stdout",
     "output_type": "stream",
     "text": [
      "Date                           6/1/2023\n",
      "name                   Rate (Mt.EFH Km)\n",
      "Scenario                         Actual\n",
      "Figure                     Year-To-Date\n",
      "Value                        3858.64836\n",
      "BusinessUnit    Core Extraction Systems\n",
      "Factor                              1.0\n",
      "Name: 1954, dtype: object\n"
     ]
    }
   ],
   "source": [
    "# Print the 769th row of the DataFrame\n",
    "print(df.iloc[1954])  # Note: Python uses zero-based indexing, so the 769th row has index 768\n"
   ]
  },
  {
   "cell_type": "code",
   "execution_count": 188,
   "id": "b198022f-45d0-4b08-9af7-26d752a0b993",
   "metadata": {},
   "outputs": [],
   "source": [
    "df = df.dropna(how='all')"
   ]
  },
  {
   "cell_type": "code",
   "execution_count": 189,
   "id": "88629db9-fc7b-49a2-86d7-3b9dc01ae5a0",
   "metadata": {},
   "outputs": [
    {
     "name": "stdout",
     "output_type": "stream",
     "text": [
      "Date            datetime64[ns]\n",
      "name                    object\n",
      "Scenario                object\n",
      "Figure                  object\n",
      "Value                  float64\n",
      "BusinessUnit            object\n",
      "Factor                   int64\n",
      "dtype: object\n"
     ]
    }
   ],
   "source": [
    "df['Date'] = pd.to_datetime(df['Date'])\n",
    "\n",
    "df['Value'] = df['Value'].astype(float)\n",
    "df['Factor'] = df['Factor'].astype(int)\n",
    "\n",
    "data_types = df.dtypes\n",
    "\n",
    "print(data_types)"
   ]
  },
  {
   "cell_type": "code",
   "execution_count": 190,
   "id": "c2df94b1-c32a-4c39-8660-b162375cc781",
   "metadata": {},
   "outputs": [
    {
     "name": "stdout",
     "output_type": "stream",
     "text": [
      "           Date                  name Scenario        Figure       Value  \\\n",
      "0    2019-02-01      Rate (Mt.EFH Km)   Actual         Month  6512.41596   \n",
      "1    2019-02-01      Rate (Mt.EFH Km)   Actual         Month  6512.41596   \n",
      "2    2019-02-01      Rate (Mt.EFH Km)   Actual  Year-To-Date  3448.19628   \n",
      "3    2019-02-01           Utility (%)   Actual         Month    81.60000   \n",
      "4    2019-02-01           Utility (%)     Plan  Year-To-Date    71.42400   \n",
      "...         ...                   ...      ...           ...         ...   \n",
      "2252 2024-08-01  Coal Dry Mining (Mt)     Plan  Year-To-Date     1.41636   \n",
      "2253 2024-09-01  Coal Dry Mining (Mt)     Plan  Year-To-Date     1.41636   \n",
      "2254 2024-10-01  Coal Dry Mining (Mt)     Plan  Year-To-Date     1.41636   \n",
      "2255 2024-11-01  Coal Dry Mining (Mt)     Plan  Year-To-Date     1.41636   \n",
      "2256 2024-12-01  Coal Dry Mining (Mt)     Plan  Year-To-Date     1.41636   \n",
      "\n",
      "                         BusinessUnit   Factor  \n",
      "0               Geomining Innovations        1  \n",
      "1               Geomining Innovations        1  \n",
      "2     Mineral Extraction Technologies        1  \n",
      "3         Deep Earth Exploration Unit        1  \n",
      "4         Deep Earth Exploration Unit        1  \n",
      "...                               ...      ...  \n",
      "2252                             ACME  1000000  \n",
      "2253                             ACME  1000000  \n",
      "2254                             ACME  1000000  \n",
      "2255                             ACME  1000000  \n",
      "2256                             ACME  1000000  \n",
      "\n",
      "[2257 rows x 7 columns]\n"
     ]
    }
   ],
   "source": [
    "print(df);"
   ]
  },
  {
   "cell_type": "code",
   "execution_count": 191,
   "id": "0be3f0de-2b2d-4a8c-8a74-01845b52c3f3",
   "metadata": {},
   "outputs": [],
   "source": [
    "df.reset_index(drop=True, inplace=True)\n",
    "\n",
    "# Add a new column representing the index number in the first column\n",
    "df.insert(0, 'Index', df.index)"
   ]
  },
  {
   "cell_type": "code",
   "execution_count": 192,
   "id": "615dd86d-4ae2-4e5f-b914-31967bea6a60",
   "metadata": {},
   "outputs": [
    {
     "name": "stdout",
     "output_type": "stream",
     "text": [
      "      Index       Date                  name Scenario        Figure  \\\n",
      "0         0 2019-02-01      Rate (Mt.EFH Km)   Actual         Month   \n",
      "1         1 2019-02-01      Rate (Mt.EFH Km)   Actual         Month   \n",
      "2         2 2019-02-01      Rate (Mt.EFH Km)   Actual  Year-To-Date   \n",
      "3         3 2019-02-01           Utility (%)   Actual         Month   \n",
      "4         4 2019-02-01           Utility (%)     Plan  Year-To-Date   \n",
      "...     ...        ...                   ...      ...           ...   \n",
      "2252   2252 2024-08-01  Coal Dry Mining (Mt)     Plan  Year-To-Date   \n",
      "2253   2253 2024-09-01  Coal Dry Mining (Mt)     Plan  Year-To-Date   \n",
      "2254   2254 2024-10-01  Coal Dry Mining (Mt)     Plan  Year-To-Date   \n",
      "2255   2255 2024-11-01  Coal Dry Mining (Mt)     Plan  Year-To-Date   \n",
      "2256   2256 2024-12-01  Coal Dry Mining (Mt)     Plan  Year-To-Date   \n",
      "\n",
      "           Value                     BusinessUnit   Factor  \n",
      "0     6512.41596            Geomining Innovations        1  \n",
      "1     6512.41596            Geomining Innovations        1  \n",
      "2     3448.19628  Mineral Extraction Technologies        1  \n",
      "3       81.60000      Deep Earth Exploration Unit        1  \n",
      "4       71.42400      Deep Earth Exploration Unit        1  \n",
      "...          ...                              ...      ...  \n",
      "2252     1.41636                             ACME  1000000  \n",
      "2253     1.41636                             ACME  1000000  \n",
      "2254     1.41636                             ACME  1000000  \n",
      "2255     1.41636                             ACME  1000000  \n",
      "2256     1.41636                             ACME  1000000  \n",
      "\n",
      "[2257 rows x 8 columns]\n"
     ]
    }
   ],
   "source": [
    "print(df)"
   ]
  },
  {
   "cell_type": "code",
   "execution_count": 193,
   "id": "e6cd9e56-46fc-4fb6-82b6-0ebd6d2220d2",
   "metadata": {},
   "outputs": [
    {
     "name": "stdout",
     "output_type": "stream",
     "text": [
      "Row indexes of duplicated rows:\n",
      "    Index       Date              name Scenario        Figure       Value  \\\n",
      "1       1 2019-02-01  Rate (Mt.EFH Km)   Actual         Month  6512.41596   \n",
      "14     14 2019-02-01   Coal Mined (Mt)     Plan  Year-To-Date    15.20316   \n",
      "\n",
      "                   BusinessUnit   Factor  \n",
      "1         Geomining Innovations        1  \n",
      "14  Deep Earth Exploration Unit  1000000  \n"
     ]
    }
   ],
   "source": [
    "# Create a Boolean mask indicating duplicated rows, excluding the 'Index' column\n",
    "duplicated_mask = df.duplicated(subset=df.columns.difference(['Index']))\n",
    "\n",
    "# Filter the DataFrame to include only duplicated rows\n",
    "duplicated_rows = df[duplicated_mask]\n",
    "\n",
    "# Display the row indexes of duplicated rows\n",
    "print(\"Row indexes of duplicated rows:\")\n",
    "print(duplicated_rows)\n",
    "\n",
    "duplicated_rows.to_csv('duplicated.csv', index=False)"
   ]
  },
  {
   "cell_type": "code",
   "execution_count": 194,
   "id": "6741e0d3-5790-439b-8ad5-d2f3884fbcf9",
   "metadata": {},
   "outputs": [
    {
     "name": "stdout",
     "output_type": "stream",
     "text": [
      "      Index       Date                  name Scenario        Figure  \\\n",
      "0         0 2019-02-01      Rate (Mt.EFH Km)   Actual         Month   \n",
      "2         2 2019-02-01      Rate (Mt.EFH Km)   Actual  Year-To-Date   \n",
      "3         3 2019-02-01           Utility (%)   Actual         Month   \n",
      "4         4 2019-02-01           Utility (%)     Plan  Year-To-Date   \n",
      "5         5 2019-02-01           Utility (%)     Plan         Month   \n",
      "...     ...        ...                   ...      ...           ...   \n",
      "2252   2252 2024-08-01  Coal Dry Mining (Mt)     Plan  Year-To-Date   \n",
      "2253   2253 2024-09-01  Coal Dry Mining (Mt)     Plan  Year-To-Date   \n",
      "2254   2254 2024-10-01  Coal Dry Mining (Mt)     Plan  Year-To-Date   \n",
      "2255   2255 2024-11-01  Coal Dry Mining (Mt)     Plan  Year-To-Date   \n",
      "2256   2256 2024-12-01  Coal Dry Mining (Mt)     Plan  Year-To-Date   \n",
      "\n",
      "           Value                     BusinessUnit   Factor  \n",
      "0     6512.41596            Geomining Innovations        1  \n",
      "2     3448.19628  Mineral Extraction Technologies        1  \n",
      "3       81.60000      Deep Earth Exploration Unit        1  \n",
      "4       71.42400      Deep Earth Exploration Unit        1  \n",
      "5       71.38800      Deep Earth Exploration Unit        1  \n",
      "...          ...                              ...      ...  \n",
      "2252     1.41636                             ACME  1000000  \n",
      "2253     1.41636                             ACME  1000000  \n",
      "2254     1.41636                             ACME  1000000  \n",
      "2255     1.41636                             ACME  1000000  \n",
      "2256     1.41636                             ACME  1000000  \n",
      "\n",
      "[2255 rows x 8 columns]\n"
     ]
    }
   ],
   "source": [
    "df_cleaned = df[~duplicated_mask]\n",
    "\n",
    "print(df_cleaned)\n",
    "\n",
    "df_cleaned.to_csv('cleaned.csv', index=False)"
   ]
  },
  {
   "cell_type": "code",
   "execution_count": null,
   "id": "1465a0dc-ffe6-487f-b5bc-ccb61acfe384",
   "metadata": {},
   "outputs": [],
   "source": []
  }
 ],
 "metadata": {
  "kernelspec": {
   "display_name": "Python 3 (ipykernel)",
   "language": "python",
   "name": "python3"
  },
  "language_info": {
   "codemirror_mode": {
    "name": "ipython",
    "version": 3
   },
   "file_extension": ".py",
   "mimetype": "text/x-python",
   "name": "python",
   "nbconvert_exporter": "python",
   "pygments_lexer": "ipython3",
   "version": "3.9.6"
  }
 },
 "nbformat": 4,
 "nbformat_minor": 5
}
